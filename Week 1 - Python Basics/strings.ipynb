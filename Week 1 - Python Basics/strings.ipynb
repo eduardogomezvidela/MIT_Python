{
 "cells": [
  {
   "cell_type": "markdown",
   "metadata": {},
   "source": [
    "### Concatenation"
   ]
  },
  {
   "cell_type": "code",
   "execution_count": 10,
   "metadata": {},
   "outputs": [
    {
     "name": "stdout",
     "output_type": "stream",
     "text": [
      "yingyang\n",
      "edu ismyname\n"
     ]
    }
   ],
   "source": [
    "a = 'ying'\n",
    "b = 'yang'\n",
    "\n",
    "print(a+b)\n",
    "\n",
    "print('edu' + ' ' + 'is' + 'my' + 'name')"
   ]
  },
  {
   "cell_type": "markdown",
   "metadata": {},
   "source": [
    "### Succesive Concatenation"
   ]
  },
  {
   "cell_type": "code",
   "execution_count": 14,
   "metadata": {},
   "outputs": [
    {
     "name": "stdout",
     "output_type": "stream",
     "text": [
      "edu yayedu yayedu yay\n",
      "multiply this multiply this multiply this multiply this multiply this \n"
     ]
    }
   ],
   "source": [
    "e = 'edu yay'\n",
    "\n",
    "print(e*3)\n",
    "\n",
    "print('multiply this ' * 5)"
   ]
  },
  {
   "cell_type": "markdown",
   "metadata": {},
   "source": [
    "### Length"
   ]
  },
  {
   "cell_type": "code",
   "execution_count": 15,
   "metadata": {},
   "outputs": [
    {
     "name": "stdout",
     "output_type": "stream",
     "text": [
      "17\n"
     ]
    }
   ],
   "source": [
    "t = 'how long is this?'\n",
    "\n",
    "print(len(t))"
   ]
  },
  {
   "cell_type": "markdown",
   "metadata": {},
   "source": [
    "### Indexing"
   ]
  },
  {
   "cell_type": "code",
   "execution_count": 19,
   "metadata": {},
   "outputs": [
    {
     "name": "stdout",
     "output_type": "stream",
     "text": [
      "r\n",
      "t\n"
     ]
    }
   ],
   "source": [
    "x = 'print this'\n",
    "\n",
    "print(x[1])\n",
    "print(x[6])\n"
   ]
  },
  {
   "cell_type": "markdown",
   "metadata": {},
   "source": [
    "#### We can also use negatives for indexes"
   ]
  },
  {
   "cell_type": "code",
   "execution_count": 37,
   "metadata": {},
   "outputs": [
    {
     "name": "stdout",
     "output_type": "stream",
     "text": [
      "r\n"
     ]
    }
   ],
   "source": [
    "r = 'print the last letter'\n",
    "\n",
    "print(r[-1])"
   ]
  },
  {
   "cell_type": "markdown",
   "metadata": {},
   "source": [
    "### Slicing"
   ]
  },
  {
   "cell_type": "code",
   "execution_count": 27,
   "metadata": {},
   "outputs": [
    {
     "name": "stdout",
     "output_type": "stream",
     "text": [
      "slice this\n",
      "l slice this string\n",
      "i wil\n",
      "i will slice this string\n"
     ]
    }
   ],
   "source": [
    "s = 'i will slice this string'\n",
    "\n",
    "print(s[7:17]) #slices from char 7 to 17\n",
    "\n",
    "end = s[5:] #slices from 5 til the end\n",
    "\n",
    "print(end)\n",
    "\n",
    "beg = s[:5] #slices from beginning til 5\n",
    "\n",
    "print(beg)\n",
    "\n",
    "copy = s[:] #creates a copy of the string\n",
    "\n",
    "print(copy)"
   ]
  },
  {
   "cell_type": "markdown",
   "metadata": {},
   "source": [
    "#### Note that slicing of a string includes the first char '[3:' but not the limit char ':5].\n",
    "\n",
    "#### [3:5] would return chars 3 and 4, but NOT 5."
   ]
  },
  {
   "cell_type": "markdown",
   "metadata": {},
   "source": [
    "### Advanced slicing (skipping by x chars, slicing in reverse)"
   ]
  },
  {
   "cell_type": "code",
   "execution_count": 35,
   "metadata": {},
   "outputs": [
    {
     "name": "stdout",
     "output_type": "stream",
     "text": [
      "ktyti\n",
      "siht yrt ko\n"
     ]
    }
   ],
   "source": [
    "t = 'ok try this'\n",
    "\n",
    "print(t[1:10:2]) #the third variable tells the function by how much to jump\n",
    "\n",
    "print(t[::-1]) #it can also be negative in order to print the string in reverse"
   ]
  },
  {
   "cell_type": "markdown",
   "metadata": {},
   "source": [
    "### Looking for chars inside a string"
   ]
  },
  {
   "cell_type": "code",
   "execution_count": 1,
   "metadata": {},
   "outputs": [
    {
     "name": "stdout",
     "output_type": "stream",
     "text": [
      "True\n"
     ]
    }
   ],
   "source": [
    "c = 'i am looking for mi hombre wes in this string'\n",
    "\n",
    "print('wes' in c)"
   ]
  },
  {
   "cell_type": "markdown",
   "metadata": {},
   "source": []
  }
 ],
 "metadata": {
  "kernelspec": {
   "display_name": "Python 3",
   "language": "python",
   "name": "python3"
  },
  "language_info": {
   "codemirror_mode": {
    "name": "ipython",
    "version": 3
   },
   "file_extension": ".py",
   "mimetype": "text/x-python",
   "name": "python",
   "nbconvert_exporter": "python",
   "pygments_lexer": "ipython3",
   "version": "3.6.1"
  }
 },
 "nbformat": 4,
 "nbformat_minor": 2
}
