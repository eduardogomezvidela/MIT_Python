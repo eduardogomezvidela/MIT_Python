{
 "cells": [
  {
   "cell_type": "markdown",
   "metadata": {},
   "source": [
    "#### Assume s is a string of lower case characters.\n",
    "\n",
    "#### Write a program that counts up the number of vowels contained in the string s. Valid vowels are: 'a', 'e', 'i', 'o', and 'u'. For example, if s = 'azcbobobegghakl', your program should print:\n",
    "\n",
    "#### Number of vowels: 5"
   ]
  },
  {
   "cell_type": "code",
   "execution_count": 2,
   "metadata": {},
   "outputs": [
    {
     "name": "stdout",
     "output_type": "stream",
     "text": [
      "['k', 'l', 'j', 's', 'a', 'j', 'i', 'o', 'd', 'q', 'e', 'w', 'd', 'm', 'c', 'o', 'v', 'e', 'w', 'i', 'r', 'n', 'g', 'i', 'o', 'u', 'w', 'e', 'r', 'f', 'e', 'r']\n",
      "12\n"
     ]
    }
   ],
   "source": [
    "s = 'kljsajiodqewdmcovewirngiouwerfer'\n",
    "\n",
    "count = 0\n",
    "\n",
    "vowels = 'aeiou'\n",
    "for char in s:\n",
    "    for v in vowels:\n",
    "        if char == v:\n",
    "            count += 1\n",
    "            \n",
    "print(count)"
   ]
  },
  {
   "cell_type": "markdown",
   "metadata": {},
   "source": [
    "#### Assume s is a string of lower case characters.\n",
    "\n",
    "#### Write a program that prints the number of times the string 'bob' occurs in s. For example, if s = 'azcbobobegghakl', then your program should print\n",
    "\n",
    "#### Number of times bob occurs is: 2"
   ]
  },
  {
   "cell_type": "code",
   "execution_count": null,
   "metadata": {
    "collapsed": true
   },
   "outputs": [],
   "source": [
    "s = 'suhaioubobdsfuimcbobuaiowefnoboawbobambobobewbobb'\n",
    "\n",
    "counter = 0\n",
    "bob = 0\n",
    "\n",
    "for char in s:\n",
    "    if char == 'b' and len(s) - counter > 3:\n",
    "        if (char + s[counter+1] + s[counter+2]) == 'bob':\n",
    "            bob += 1\n",
    "        \n",
    "    counter += 1\n",
    "    \n",
    "if s[-3] == 'b' and s[-2] == 'o' and s[-1] == 'b':\n",
    "    bob += 1\n",
    "    \n",
    "print('Number of times bob occurs is:',bob)"
   ]
  },
  {
   "cell_type": "markdown",
   "metadata": {},
   "source": [
    "#### Assume s is a string of lower case characters.\n",
    "\n",
    "#### Write a program that prints the longest substring of s in which the letters occur in alphabetical order. For example, if s = 'azcbobobegghakl', then your program should print\n",
    "\n",
    "#### Longest substring in alphabetical order is: beggh\n",
    "#### In the case of ties, print the first substring. For example, if s = 'abcbcd', then your program should print\n",
    "\n",
    "#### Longest substring in alphabetical order is: abc"
   ]
  },
  {
   "cell_type": "code",
   "execution_count": 86,
   "metadata": {},
   "outputs": [
    {
     "name": "stdout",
     "output_type": "stream",
     "text": [
      "The longest substring in alphabetical order is beggh\n"
     ]
    }
   ],
   "source": [
    "s = 'azcbobobegghakl'\n",
    "\n",
    "current = s[0]\n",
    "\n",
    "best = s[0]\n",
    "\n",
    "for i in range (len(s)-1):\n",
    "    \n",
    "    if s[i] <= s[i+1]:\n",
    "        current = current + s[i+1]\n",
    "        \n",
    "    else:\n",
    "        current = s[i+1]\n",
    "        \n",
    "    if len(current) > len(best):\n",
    "        best = current\n",
    "        \n",
    "print('The longest substring in alphabetical order is:', best)"
   ]
  },
  {
   "cell_type": "code",
   "execution_count": null,
   "metadata": {
    "collapsed": true
   },
   "outputs": [],
   "source": []
  }
 ],
 "metadata": {
  "kernelspec": {
   "display_name": "Python 3",
   "language": "python",
   "name": "python3"
  },
  "language_info": {
   "codemirror_mode": {
    "name": "ipython",
    "version": 3
   },
   "file_extension": ".py",
   "mimetype": "text/x-python",
   "name": "python",
   "nbconvert_exporter": "python",
   "pygments_lexer": "ipython3",
   "version": "3.6.1"
  }
 },
 "nbformat": 4,
 "nbformat_minor": 2
}
