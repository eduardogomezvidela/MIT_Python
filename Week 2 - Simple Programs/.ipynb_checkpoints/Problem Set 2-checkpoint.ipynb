{
 "cells": [
  {
   "cell_type": "markdown",
   "metadata": {},
   "source": [
    "### Problem 1\n",
    "\n",
    "Write a program to calculate the credit card balance after one year if a person only pays the minimum monthly payment required by the credit card company each month.\n",
    "\n",
    "Monthly interest rate = (Annual interest rate) / 12.0\n",
    "\n",
    "Minimum monthly payment = (Minimum monthly payment rate) x (Previous balance)\n",
    "\n",
    "Monthly unpaid balance = (Previous balance) - (Minimum monthly payment)\n",
    "\n",
    "Updated balance each month = (Monthly unpaid balance) + (Monthly interest rate x Monthly unpaid balance)"
   ]
  },
  {
   "cell_type": "code",
   "execution_count": 61,
   "metadata": {},
   "outputs": [
    {
     "name": "stdout",
     "output_type": "stream",
     "text": [
      "Balance\t\t 5000\n",
      "Min Payment\t 100.0\n",
      "Unpaid\t\t 4900.0 \n",
      "\n",
      "Balance\t\t 4973.5\n",
      "Min Payment\t 99.47\n",
      "Unpaid\t\t 4874.03 \n",
      "\n",
      "Balance\t\t 4947.14045\n",
      "Min Payment\t 98.942809\n",
      "Unpaid\t\t 4848.197641 \n",
      "\n",
      "Balance\t\t 4920.920605615\n",
      "Min Payment\t 98.41841211229999\n",
      "Unpaid\t\t 4822.5021935027 \n",
      "\n",
      "Balance\t\t 4894.83972640524\n",
      "Min Payment\t 97.8967945281048\n",
      "Unpaid\t\t 4796.942931877135 \n",
      "\n",
      "Balance\t\t 4868.897075855292\n",
      "Min Payment\t 97.37794151710585\n",
      "Unpaid\t\t 4771.519134338187 \n",
      "\n",
      "Balance\t\t 4843.09192135326\n",
      "Min Payment\t 96.8618384270652\n",
      "Unpaid\t\t 4746.230082926195 \n",
      "\n",
      "Balance\t\t 4817.423534170088\n",
      "Min Payment\t 96.34847068340176\n",
      "Unpaid\t\t 4721.075063486686 \n",
      "\n",
      "Balance\t\t 4791.891189438987\n",
      "Min Payment\t 95.83782378877973\n",
      "Unpaid\t\t 4696.053365650207 \n",
      "\n",
      "Balance\t\t 4766.494166134959\n",
      "Min Payment\t 95.32988332269919\n",
      "Unpaid\t\t 4671.16428281226 \n",
      "\n",
      "Balance\t\t 4741.231747054444\n",
      "Min Payment\t 94.82463494108889\n",
      "Unpaid\t\t 4646.407112113355 \n",
      "\n",
      "Balance\t\t 4716.103218795055\n",
      "Min Payment\t 94.3220643759011\n",
      "Unpaid\t\t 4621.781154419154 \n",
      "\n"
     ]
    }
   ],
   "source": [
    "debt = 5000\n",
    "\n",
    "minmonthly = 0.02\n",
    "annualrate = 0.18\n",
    "\n",
    "for i in range(12):\n",
    "    \n",
    "    print('Balance\\t\\t',debt)\n",
    "    \n",
    "    minpayment = debt*minmonthly\n",
    "    print('Min Payment\\t',minpayment)\n",
    "    \n",
    "    unpaid = debt - minpayment\n",
    "    print('Unpaid\\t\\t',unpaid,'\\n')\n",
    "    \n",
    "    interest = annualrate/12 * unpaid\n",
    "    \n",
    "    debt = unpaid + interest"
   ]
  },
  {
   "cell_type": "code",
   "execution_count": 67,
   "metadata": {},
   "outputs": [
    {
     "name": "stdout",
     "output_type": "stream",
     "text": [
      "Balance\t\t 42\n",
      "Min Payment\t 1.68\n",
      "Unpaid\t\t 40.32 \n",
      "\n",
      "Balance\t\t 40.99\n",
      "Min Payment\t 1.63968\n",
      "Unpaid\t\t 39.35232 \n",
      "\n",
      "Balance\t\t 40.01\n",
      "Min Payment\t 1.6003276800000001\n",
      "Unpaid\t\t 38.40786432 \n",
      "\n",
      "Balance\t\t 39.05\n",
      "Min Payment\t 1.5619198156800003\n",
      "Unpaid\t\t 37.486075576320005 \n",
      "\n",
      "Balance\t\t 38.11\n",
      "Min Payment\t 1.5244337401036803\n",
      "Unpaid\t\t 36.58640976248832 \n",
      "\n",
      "Balance\t\t 37.2\n",
      "Min Payment\t 1.4878473303411917\n",
      "Unpaid\t\t 35.7083359281886 \n",
      "\n",
      "Balance\t\t 36.3\n",
      "Min Payment\t 1.4521389944130032\n",
      "Unpaid\t\t 34.85133586591208 \n",
      "\n",
      "Balance\t\t 35.43\n",
      "Min Payment\t 1.417287658547091\n",
      "Unpaid\t\t 34.01490380513019 \n",
      "\n",
      "Balance\t\t 34.58\n",
      "Min Payment\t 1.3832727547419612\n",
      "Unpaid\t\t 33.19854611380707 \n",
      "\n",
      "Balance\t\t 33.75\n",
      "Min Payment\t 1.3500742086281543\n",
      "Unpaid\t\t 32.4017810070757 \n",
      "\n",
      "Balance\t\t 32.94\n",
      "Min Payment\t 1.3176724276210783\n",
      "Unpaid\t\t 31.624138262905877 \n",
      "\n",
      "Balance\t\t 32.15\n",
      "Min Payment\t 1.2860482893581724\n",
      "Unpaid\t\t 30.865158944596136 \n",
      "\n",
      "Balance\t\t 31.38\n",
      "Min Payment\t 1.255183130413576\n",
      "Unpaid\t\t 30.124395129925826 \n",
      "\n"
     ]
    }
   ],
   "source": [
    "debt = 42\n",
    "\n",
    "minmonthly = 0.04\n",
    "annualrate = 0.2\n",
    "\n",
    "for i in range(13):\n",
    "    \n",
    "    print('Balance\\t\\t',round(debt,2))\n",
    "    #debt = round(debt,2)\n",
    "    minpayment = debt*minmonthly\n",
    "    print('Min Payment\\t',minpayment)\n",
    "    \n",
    "    unpaid = debt - minpayment\n",
    "    print('Unpaid\\t\\t',unpaid,'\\n')\n",
    "    \n",
    "    interest = annualrate/12 * unpaid\n",
    "    \n",
    "    debt = unpaid + interest"
   ]
  },
  {
   "cell_type": "code",
   "execution_count": 68,
   "metadata": {},
   "outputs": [
    {
     "name": "stdout",
     "output_type": "stream",
     "text": [
      "Balance\t\t 484\n",
      "Min Payment\t 19.36\n",
      "Unpaid\t\t 464.64 \n",
      "\n",
      "Balance\t\t 472.38\n",
      "Min Payment\t 18.89536\n",
      "Unpaid\t\t 453.48864000000003 \n",
      "\n",
      "Balance\t\t 461.05\n",
      "Min Payment\t 18.441871360000004\n",
      "Unpaid\t\t 442.60491264000007 \n",
      "\n",
      "Balance\t\t 449.98\n",
      "Min Payment\t 17.999266447360004\n",
      "Unpaid\t\t 431.98239473664006 \n",
      "\n",
      "Balance\t\t 439.18\n",
      "Min Payment\t 17.567284052623364\n",
      "Unpaid\t\t 421.61481726296074 \n",
      "\n",
      "Balance\t\t 428.64\n",
      "Min Payment\t 17.145669235360405\n",
      "Unpaid\t\t 411.4960616486497 \n",
      "\n",
      "Balance\t\t 418.35\n",
      "Min Payment\t 16.734173173711753\n",
      "Unpaid\t\t 401.62015616908207 \n",
      "\n",
      "Balance\t\t 408.31\n",
      "Min Payment\t 16.332553017542672\n",
      "Unpaid\t\t 391.9812724210241 \n",
      "\n",
      "Balance\t\t 398.51\n",
      "Min Payment\t 15.940571745121645\n",
      "Unpaid\t\t 382.5737218829195 \n",
      "\n",
      "Balance\t\t 388.95\n",
      "Min Payment\t 15.557998023238724\n",
      "Unpaid\t\t 373.3919525577294 \n",
      "\n",
      "Balance\t\t 379.62\n",
      "Min Payment\t 15.184606070680996\n",
      "Unpaid\t\t 364.43054569634387 \n",
      "\n",
      "Balance\t\t 370.5\n",
      "Min Payment\t 14.82017552498465\n",
      "Unpaid\t\t 355.68421259963156 \n",
      "\n",
      "Balance\t\t 361.61\n",
      "Min Payment\t 14.464491312385016\n",
      "Unpaid\t\t 347.1477914972404 \n",
      "\n"
     ]
    }
   ],
   "source": [
    "debt = 484\n",
    "\n",
    "minmonthly = 0.04\n",
    "annualrate = 0.2\n",
    "\n",
    "for i in range(13):\n",
    "    \n",
    "    print('Balance\\t\\t',round(debt,2))\n",
    "    #debt = round(debt,2)\n",
    "    minpayment = debt*minmonthly\n",
    "    print('Min Payment\\t',minpayment)\n",
    "    \n",
    "    unpaid = debt - minpayment\n",
    "    print('Unpaid\\t\\t',unpaid,'\\n')\n",
    "    \n",
    "    interest = annualrate/12 * unpaid\n",
    "    \n",
    "    debt = unpaid + interest"
   ]
  },
  {
   "cell_type": "code",
   "execution_count": 75,
   "metadata": {},
   "outputs": [
    {
     "name": "stdout",
     "output_type": "stream",
     "text": [
      "Remaining balance 31.38\n"
     ]
    }
   ],
   "source": [
    "debt = 42\n",
    "\n",
    "minmonthly = 0.04\n",
    "annualrate = 0.2\n",
    "\n",
    "for i in range(12):\n",
    "    \n",
    "    #debt = round(debt,2)\n",
    "    minpayment = debt*minmonthly\n",
    "    #print('Min Payment\\t',minpayment)\n",
    "    \n",
    "    unpaid = debt - minpayment\n",
    "    #print('Unpaid\\t\\t',unpaid,'\\n')\n",
    "    \n",
    "    interest = annualrate/12 * unpaid\n",
    "    \n",
    "    debt = unpaid + interest\n",
    "    \n",
    "print('Remaining balance',round(debt,2))"
   ]
  },
  {
   "cell_type": "markdown",
   "metadata": {},
   "source": [
    "### Problem 2"
   ]
  },
  {
   "cell_type": "markdown",
   "metadata": {},
   "source": [
    "Now write a program that calculates the minimum fixed monthly payment needed in order pay off a credit card balance within 12 months. By a fixed monthly payment, we mean a single number which does not change each month, but instead is a constant amount that will be paid each month.\n",
    "\n",
    "In this problem, we will not be dealing with a minimum monthly payment rate.\n",
    "\n",
    "The following variables contain values as described below:\n",
    "\n",
    "balance - the outstanding balance on the credit card\n",
    "\n",
    "annualInterestRate - annual interest rate as a decimal\n",
    "\n",
    "The program should print out one line: the lowest monthly payment that will pay off all debt in under 1 year, for example:"
   ]
  },
  {
   "cell_type": "markdown",
   "metadata": {},
   "source": [
    "Assume that the interest is compounded monthly according to the balance at the end of the month (after the payment for that month is made). The monthly payment must be a multiple of $10 and is the same for all months. Notice that it is possible for the balance to become negative using this payment scheme, which is okay. A summary of the required math is found below:\n",
    "\n",
    "Monthly interest rate = (Annual interest rate) / 12.0\n",
    "\n",
    "Monthly unpaid balance = (Previous balance) - (Minimum fixed monthly payment)\n",
    "\n",
    "Updated balance each month = (Monthly unpaid balance) + (Monthly interest rate x Monthly unpaid balance)"
   ]
  },
  {
   "cell_type": "markdown",
   "metadata": {},
   "source": [
    "balance - the outstanding balance on the credit card\n",
    "\n",
    "annualInterestRate - annual interest rate as a decimal\n",
    "\n",
    "Monthly interest rate = (Annual interest rate) / 12.0\n",
    "\n",
    "Monthly unpaid balance = (Previous balance) - (Minimum fixed monthly payment)\n",
    "\n",
    "Updated balance each month = (Monthly unpaid balance) + (Monthly interest rate x Monthly unpaid balance)"
   ]
  },
  {
   "cell_type": "code",
   "execution_count": 23,
   "metadata": {},
   "outputs": [
    {
     "name": "stdout",
     "output_type": "stream",
     "text": [
      "Balance: 535\n",
      "Annual interest rate:0.25\n",
      "Expected Lowest Payment: 50\n"
     ]
    }
   ],
   "source": [
    "balance = float(input('Balance: '))\n",
    "balance_org = balance\n",
    "annualInterestRate = float(input('Annual interest rate:'))\n",
    "annual_rate = annualInterestRate\n",
    "\n",
    "monthly_rate = annual_rate / 12\n",
    "\n",
    "lowest_monthly_payment = 0\n",
    "\n",
    "while balance > 0: #initiate loop\n",
    "    \n",
    "    balance = balance_org\n",
    "    \n",
    "    \n",
    "    lowest_monthly_payment += 10 #add 10 to min. monthly payment\n",
    "    \n",
    "    for i in range(12): #for each month of the year\n",
    "        \n",
    "        balance = balance - lowest_monthly_payment #pay one month\n",
    "        \n",
    "        balance = balance + (balance * monthly_rate) #add monthly interest\n",
    "        \n",
    "print('Expected Lowest Payment:',lowest_monthly_payment)"
   ]
  },
  {
   "cell_type": "markdown",
   "metadata": {},
   "source": [
    "### Problem 3\n",
    "\n",
    "The following variables contain values as described below:\n",
    "\n",
    "balance - the outstanding balance on the credit card\n",
    "\n",
    "annualInterestRate - annual interest rate as a decimal\n",
    "\n",
    "To recap the problem: we are searching for the smallest monthly payment such that we can pay off the entire balance within a year. What is a reasonable lower bound for this payment value? $0 is the obvious anwer, but you can do better than that. If there was no interest, the debt can be paid off by monthly payments of one-twelfth of the original balance, so we must pay at least this much every month. One-twelfth of the original balance is a good lower bound.\n",
    "\n",
    "What is a good upper bound? Imagine that instead of paying monthly, we paid off the entire balance at the end of the year. What we ultimately pay must be greater than what we would've paid in monthly installments, because the interest was compounded on the balance we didn't pay off each month. So a good upper bound for the monthly payment would be one-twelfth of the balance, after having its interest compounded monthly for an entire year.\n",
    "\n",
    "In short:\n",
    "\n",
    "Monthly interest rate = (Annual interest rate) / 12.0\n",
    "Monthly payment lower bound = Balance / 12\n",
    "Monthly payment upper bound = (Balance x (1 + Monthly interest rate)12) / 12.0\n",
    "\n",
    "Write a program that uses these bounds and bisection search (for more info check out the Wikipedia page on bisection search) to find the smallest monthly payment to the cent (no more multiples of $10) such that we can pay off the debt within a year. Try it out with large inputs, and notice how fast it is (try the same large inputs in your solution to Problem 2 to compare!). Produce the same return value as you did in Problem 2.\n",
    "\n",
    "Note that if you do not use bisection search, your code will not run - your code only has 30 seconds to run on our servers."
   ]
  },
  {
   "cell_type": "code",
   "execution_count": 41,
   "metadata": {},
   "outputs": [
    {
     "name": "stdout",
     "output_type": "stream",
     "text": [
      "Balance: 999999\n",
      "Annual interest rate:0.18\n",
      "Lowest Payment: 90325.03\n"
     ]
    }
   ],
   "source": [
    "balance = float(input('Balance: '))\n",
    "balance_org = balance\n",
    "annualInterestRate = float(input('Annual interest rate:'))\n",
    "annual_rate = annualInterestRate\n",
    "\n",
    "monthly_rate = annual_rate / 12\n",
    "\n",
    "lowest_monthly_payment = 0\n",
    "\n",
    "lowest_monthly_payment = balance/12\n",
    "max_payment = (balance*annual_rate)\n",
    "\n",
    "middle = (lowest_monthly_payment + max_payment)/2\n",
    "\n",
    "answer = False\n",
    "\n",
    "lmp = lowest_monthly_payment\n",
    "\n",
    "#print('lmp', lmp)\n",
    "#print('middle', middle)\n",
    "#print('max', max_payment)\n",
    "\n",
    "while answer == False: #initiate loop\n",
    "    \n",
    "    middle = (lmp + max_payment)/2\n",
    "    balance = balance_org\n",
    "    \n",
    "    \n",
    "    for i in range(12): #check if +,- or = than balance\n",
    "        \n",
    "        balance = balance - (middle) #pay one month\n",
    "        \n",
    "        balance = balance + (balance * monthly_rate) #add monthly interest\n",
    "        \n",
    "        \n",
    "    #print('lmp', lmp)\n",
    "    #print('middle', middle)\n",
    "    #print('max', max_payment)\n",
    "    #print('balance', balance,'\\n')\n",
    "    \n",
    "    \n",
    "    \n",
    "    if balance <= -0.002: #go left\n",
    "        #print('left')\n",
    "        max_payment = middle\n",
    "        \n",
    "    elif balance >= 0.002:\n",
    "        #print('right')\n",
    "        lmp = middle\n",
    "        \n",
    "    elif balance < 0.002 and balance > -0.002:\n",
    "        print(\"Lowest Payment: {0:.2f}\".format(round(lmp,2)))\n",
    "        answer = True"
   ]
  },
  {
   "cell_type": "code",
   "execution_count": 30,
   "metadata": {},
   "outputs": [
    {
     "name": "stdout",
     "output_type": "stream",
     "text": [
      "Balance: 100\n",
      "Annual interest rate:1\n",
      "Expected Lowest Payment: 12.469999999999779\n"
     ]
    }
   ],
   "source": [
    "balance = float(input('Balance: '))\n",
    "balance_org = balance\n",
    "annualInterestRate = float(input('Annual interest rate:'))\n",
    "annual_rate = annualInterestRate\n",
    "\n",
    "monthly_rate = annual_rate / 12\n",
    "\n",
    "lowest_monthly_payment = 0\n",
    "\n",
    "while balance > 0: #initiate loop\n",
    "    \n",
    "    balance = balance_org\n",
    "    \n",
    "    \n",
    "    lowest_monthly_payment += 0.01 #add 1 cent to min. monthly payment\n",
    "    \n",
    "    for i in range(12): #for each month of the year\n",
    "        \n",
    "        balance = balance - lowest_monthly_payment #pay one month\n",
    "        \n",
    "        balance = balance + (balance * monthly_rate) #add monthly interest\n",
    "        \n",
    "print('Expected Lowest Payment:',lowest_monthly_payment)"
   ]
  },
  {
   "cell_type": "code",
   "execution_count": 4,
   "metadata": {},
   "outputs": [
    {
     "name": "stdout",
     "output_type": "stream",
     "text": [
      "11\n"
     ]
    }
   ],
   "source": [
    "ls = [1,2,3,4,5,6,7,8,9,10,11,12,13,14,15,16,17,18,19,20,21,22,23,24,25]\n",
    "\n",
    "num = 11 #find 11\n",
    "\n",
    "searcher = 0\n",
    "\n",
    "while searcher != num:\n",
    "    searcher = ls[len(ls)//2]\n",
    "    \n",
    "    if searcher == num:\n",
    "        print(searcher)\n",
    "        \n",
    "    elif searcher < num:\n",
    "        ls = ls[searcher:len(ls)] #go right\n",
    "    \n",
    "    elif searcher > num:\n",
    "        ls = ls[0:searcher] #go left"
   ]
  },
  {
   "cell_type": "code",
   "execution_count": null,
   "metadata": {
    "collapsed": true
   },
   "outputs": [],
   "source": []
  }
 ],
 "metadata": {
  "kernelspec": {
   "display_name": "Python 3",
   "language": "python",
   "name": "python3"
  },
  "language_info": {
   "codemirror_mode": {
    "name": "ipython",
    "version": 3
   },
   "file_extension": ".py",
   "mimetype": "text/x-python",
   "name": "python",
   "nbconvert_exporter": "python",
   "pygments_lexer": "ipython3",
   "version": "3.6.1"
  }
 },
 "nbformat": 4,
 "nbformat_minor": 2
}
