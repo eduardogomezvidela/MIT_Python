{
 "cells": [
  {
   "cell_type": "markdown",
   "metadata": {},
   "source": [
    "#### Square root checker"
   ]
  },
  {
   "cell_type": "code",
   "execution_count": null,
   "metadata": {
    "collapsed": true
   },
   "outputs": [],
   "source": [
    "i = int(input('Please input an integer: '))\n",
    "\n",
    "counter = 0\n",
    "\n",
    "while counter**2 < i:\n",
    "    counter += 1\n",
    "\n",
    "if counter**2 == i:\n",
    "    print('The square root of', i, 'is', counter)\n",
    "else:\n",
    "    print(i, 'has no square root.')"
   ]
  },
  {
   "cell_type": "markdown",
   "metadata": {},
   "source": [
    "#### Approximation"
   ]
  },
  {
   "cell_type": "code",
   "execution_count": 85,
   "metadata": {},
   "outputs": [
    {
     "name": "stdout",
     "output_type": "stream",
     "text": [
      "Largest error: 121.07887211031903\n"
     ]
    }
   ],
   "source": [
    "def guesser(num):\n",
    "    \n",
    "    #num = int(input('Put a number between 1 - 1000 to be guessed: '))\n",
    "\n",
    "    lower = 500\n",
    "    higher = 1000\n",
    "    guess = 0\n",
    "\n",
    "    for i in range (36):\n",
    "        if lower < num:\n",
    "            lower = lower*1.2\n",
    "        else:\n",
    "            lower = lower/1.5\n",
    "        if higher > num:\n",
    "                higher = higher/1.2\n",
    "        else:\n",
    "            higher = higher*1.5\n",
    "        guess = (higher+lower)/2\n",
    "\n",
    "    return(guess)\n",
    "\n",
    "\n",
    "import random\n",
    "\n",
    "biggest = 0\n",
    "\n",
    "for i in range (500):\n",
    "    x = random.randint(1,1000)\n",
    "    #print('Error:', abs(x-guesser(x)),'Num:', x,'Best Guess', guesser(x))\n",
    "    \n",
    "    if abs(x-guesser(x)) > biggest:\n",
    "        biggest = abs(x-guesser(x))\n",
    "\n",
    "print('Largest error:', biggest)"
   ]
  },
  {
   "cell_type": "code",
   "execution_count": 122,
   "metadata": {},
   "outputs": [
    {
     "name": "stdout",
     "output_type": "stream",
     "text": [
      "3.0799999999999783 is close to the root of 29\n",
      "Number of guesses 308\n"
     ]
    }
   ],
   "source": [
    "cube = 29\n",
    "guess = 0\n",
    "\n",
    "increment = 0.01\n",
    "\n",
    "error = 0.01\n",
    "guess_num = 0\n",
    "\n",
    "while cube-(guess**3) > error:\n",
    "    guess = guess + increment\n",
    "    guess_num += 1\n",
    "    \n",
    "print(guess, 'is close to the root of', cube)\n",
    "print('Number of guesses', guess_num)"
   ]
  },
  {
   "cell_type": "markdown",
   "metadata": {
    "collapsed": true
   },
   "source": [
    "#### square guesser\n",
    "\n",
    "Big O of this is logarithmic time"
   ]
  },
  {
   "cell_type": "code",
   "execution_count": 8,
   "metadata": {},
   "outputs": [
    {
     "name": "stdout",
     "output_type": "stream",
     "text": [
      "\n",
      "Loop 1\n",
      "Low = 1 \n",
      "High = 1000 \n",
      "Guess = 500.5\n",
      "\n",
      "Loop 2\n",
      "Low = 500.5 \n",
      "High = 1000 \n",
      "Guess = 750.25\n",
      "\n",
      "Loop 3\n",
      "Low = 750.25 \n",
      "High = 1000 \n",
      "Guess = 875.125\n",
      "\n",
      "Loop 4\n",
      "Low = 875.125 \n",
      "High = 1000 \n",
      "Guess = 937.5625\n",
      "\n",
      "Loop 5\n",
      "Low = 937.5625 \n",
      "High = 1000 \n",
      "Guess = 968.78125\n",
      "\n",
      "Loop 6\n",
      "Low = 937.5625 \n",
      "High = 968.78125 \n",
      "Guess = 953.171875\n",
      "\n",
      "Loop 7\n",
      "Low = 953.171875 \n",
      "High = 968.78125 \n",
      "Guess = 960.9765625\n",
      "\n",
      "Loop 8\n",
      "Low = 953.171875 \n",
      "High = 960.9765625 \n",
      "Guess = 957.07421875\n",
      "\n",
      "Loop 9\n",
      "Low = 957.07421875 \n",
      "High = 960.9765625 \n",
      "Guess = 959.025390625\n",
      "\n",
      "Loop 10\n",
      "Low = 957.07421875 \n",
      "High = 959.025390625 \n",
      "Guess = 958.0498046875\n",
      "\n",
      "Loop 11\n",
      "Low = 957.07421875 \n",
      "High = 958.0498046875 \n",
      "Guess = 957.56201171875\n",
      "\n",
      "Loop 12\n",
      "Low = 957.56201171875 \n",
      "High = 958.0498046875 \n",
      "Guess = 957.805908203125\n",
      "\n",
      "Loop 13\n",
      "Low = 957.805908203125 \n",
      "High = 958.0498046875 \n",
      "Guess = 957.9278564453125\n",
      "\n",
      "Loop 14\n",
      "Low = 957.9278564453125 \n",
      "High = 958.0498046875 \n",
      "Guess = 957.9888305664062\n",
      "\n",
      "Loop 15\n",
      "Low = 957.9888305664062 \n",
      "High = 958.0498046875 \n",
      "Guess = 958.0193176269531\n",
      "\n",
      "Loop 16\n",
      "Low = 957.9888305664062 \n",
      "High = 958.0193176269531 \n",
      "Guess = 958.0040740966797\n",
      "\n",
      "Loop 17\n",
      "Low = 957.9888305664062 \n",
      "High = 958.0040740966797 \n",
      "Guess = 957.996452331543\n",
      "\n",
      "Real number = 958\n"
     ]
    }
   ],
   "source": [
    "import random \n",
    "\n",
    "num = random.randint(1,1000)\n",
    "\n",
    "low = 1\n",
    "high = 1000\n",
    "\n",
    "guess = (low+high)/2\n",
    "n = 1\n",
    "\n",
    "while abs(num-guess) > 0.001:\n",
    "    print('\\nLoop', n)\n",
    "    print('Low =', low, '\\nHigh =', high, '\\nGuess =', guess)\n",
    "    \n",
    "    if guess > num:\n",
    "        high = guess\n",
    "    elif guess < num:\n",
    "        low = guess\n",
    "    elif guess == num:\n",
    "        print('Found the answer!')\n",
    "        \n",
    "    guess = (low+high)/2\n",
    "    n+=1\n",
    "    \n",
    "print('\\nReal number =', num)"
   ]
  },
  {
   "cell_type": "markdown",
   "metadata": {
    "collapsed": true
   },
   "source": [
    "#### Guess my number"
   ]
  },
  {
   "cell_type": "code",
   "execution_count": 1,
   "metadata": {},
   "outputs": [
    {
     "name": "stdout",
     "output_type": "stream",
     "text": [
      "Please think of a number between 0 and 100!\n",
      "Is your secret number 50?\n",
      "Enter 'h' to indicate the guess is too high. Enter 'l' to indicate the guess is too low. Enter 'c' to indicate I guessed correctly.l\n",
      "Is your secret number 75?\n",
      "Enter 'h' to indicate the guess is too high. Enter 'l' to indicate the guess is too low. Enter 'c' to indicate I guessed correctly.l\n",
      "Is your secret number 87?\n",
      "Enter 'h' to indicate the guess is too high. Enter 'l' to indicate the guess is too low. Enter 'c' to indicate I guessed correctly.h\n",
      "Is your secret number 81?\n",
      "Enter 'h' to indicate the guess is too high. Enter 'l' to indicate the guess is too low. Enter 'c' to indicate I guessed correctly.h\n",
      "Is your secret number 78?\n",
      "Enter 'h' to indicate the guess is too high. Enter 'l' to indicate the guess is too low. Enter 'c' to indicate I guessed correctly.h\n",
      "Is your secret number 76?\n",
      "Enter 'h' to indicate the guess is too high. Enter 'l' to indicate the guess is too low. Enter 'c' to indicate I guessed correctly.c\n",
      "Game over. Your secret number was: 76\n"
     ]
    }
   ],
   "source": [
    "low = 0\n",
    "high = 100\n",
    "\n",
    "guess = 50\n",
    "#print(guess)\n",
    "\n",
    "print('Please think of a number between 0 and 100!')\n",
    "print('Is your secret number %i?' % guess)\n",
    "letter = input('''Enter 'h' to indicate the guess is too high. Enter 'l' to indicate the guess is too low. Enter 'c' to indicate I guessed correctly.''')\n",
    "\n",
    "while letter != 'c':\n",
    "\n",
    "    if letter == 'h':\n",
    "        high = guess\n",
    "    elif letter == 'l':\n",
    "        low = guess\n",
    "\n",
    "    else:\n",
    "        print('Sorry, I did not understand your input.')\n",
    "\n",
    "    guess = (high + low) //2\n",
    "\n",
    "    print('Is your secret number %i?' % guess)\n",
    "\n",
    "    letter = input('''Enter 'h' to indicate the guess is too high. Enter 'l' to indicate the guess is too low. Enter 'c' to indicate I guessed correctly.''')\n",
    "\n",
    "if letter == 'c':\n",
    "    print('Game over. Your secret number was:', guess)\n"
   ]
  },
  {
   "cell_type": "markdown",
   "metadata": {
    "collapsed": true
   },
   "source": []
  },
  {
   "cell_type": "markdown",
   "metadata": {},
   "source": [
    "A regular polygon has n number of sides. Each side has length s.\n",
    "\n",
    "The area of a regular polygon is: 0.25∗n∗s2tan(π/n)\n",
    "\n",
    "The perimeter of a polygon is: length of the boundary of the polygon\n",
    "\n",
    "Write a function called polysum that takes 2 arguments, n and s. This function should sum the area and square of the perimeter of the regular polygon. The function returns the sum, rounded to 4 decimal places."
   ]
  },
  {
   "cell_type": "code",
   "execution_count": 58,
   "metadata": {},
   "outputs": [
    {
     "data": {
      "text/plain": [
       "16.0"
      ]
     },
     "execution_count": 58,
     "metadata": {},
     "output_type": "execute_result"
    }
   ],
   "source": [
    "import math\n",
    "\n",
    "def polysum(n,s):\n",
    "    a = (0.25*n*s**2)/(math.tan(math.pi /n))\n",
    "    \n",
    "    p2 = (n*s)**2\n",
    "    \n",
    "    z=a+p2\n",
    "\n",
    "    return round(z,4)\n",
    "    \n",
    "polysum(2,2)"
   ]
  },
  {
   "cell_type": "code",
   "execution_count": null,
   "metadata": {
    "collapsed": true
   },
   "outputs": [],
   "source": []
  }
 ],
 "metadata": {
  "kernelspec": {
   "display_name": "Python 3",
   "language": "python",
   "name": "python3"
  },
  "language_info": {
   "codemirror_mode": {
    "name": "ipython",
    "version": 3
   },
   "file_extension": ".py",
   "mimetype": "text/x-python",
   "name": "python",
   "nbconvert_exporter": "python",
   "pygments_lexer": "ipython3",
   "version": "3.6.1"
  }
 },
 "nbformat": 4,
 "nbformat_minor": 2
}
