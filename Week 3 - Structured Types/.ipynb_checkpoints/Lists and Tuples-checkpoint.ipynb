{
 "cells": [
  {
   "cell_type": "markdown",
   "metadata": {},
   "source": [
    "# Tuples\n",
    "\n",
    "Tuples != Lists\n",
    "\n",
    "Tuples cannot be changed, they are immutable"
   ]
  },
  {
   "cell_type": "code",
   "execution_count": 36,
   "metadata": {},
   "outputs": [
    {
     "name": "stdout",
     "output_type": "stream",
     "text": [
      "(3, 'yes', 0.5, False)\n"
     ]
    }
   ],
   "source": [
    "tp = (3,'yes', 0.5, False)\n",
    "print(tp)"
   ]
  },
  {
   "cell_type": "code",
   "execution_count": 43,
   "metadata": {},
   "outputs": [
    {
     "ename": "AttributeError",
     "evalue": "'tuple' object has no attribute 'append'",
     "output_type": "error",
     "traceback": [
      "\u001b[1;31m---------------------------------------------------------------------------\u001b[0m",
      "\u001b[1;31mAttributeError\u001b[0m                            Traceback (most recent call last)",
      "\u001b[1;32m<ipython-input-43-71997df3dbd9>\u001b[0m in \u001b[0;36m<module>\u001b[1;34m()\u001b[0m\n\u001b[0;32m      1\u001b[0m \u001b[0mtp\u001b[0m \u001b[1;33m=\u001b[0m \u001b[1;33m(\u001b[0m\u001b[1;36m1\u001b[0m\u001b[1;33m,\u001b[0m\u001b[1;36m2\u001b[0m\u001b[1;33m)\u001b[0m\u001b[1;33m\u001b[0m\u001b[0m\n\u001b[1;32m----> 2\u001b[1;33m \u001b[0mtp\u001b[0m\u001b[1;33m.\u001b[0m\u001b[0mappend\u001b[0m\u001b[1;33m(\u001b[0m\u001b[1;36m3\u001b[0m\u001b[1;33m)\u001b[0m \u001b[1;31m#can't do this\u001b[0m\u001b[1;33m\u001b[0m\u001b[0m\n\u001b[0m",
      "\u001b[1;31mAttributeError\u001b[0m: 'tuple' object has no attribute 'append'"
     ]
    }
   ],
   "source": [
    "tp = (1,2)\n",
    "tp.append(3) #can't do this"
   ]
  },
  {
   "cell_type": "code",
   "execution_count": 42,
   "metadata": {},
   "outputs": [
    {
     "ename": "TypeError",
     "evalue": "can only concatenate tuple (not \"int\") to tuple",
     "output_type": "error",
     "traceback": [
      "\u001b[1;31m---------------------------------------------------------------------------\u001b[0m",
      "\u001b[1;31mTypeError\u001b[0m                                 Traceback (most recent call last)",
      "\u001b[1;32m<ipython-input-42-1ab4d970f4a7>\u001b[0m in \u001b[0;36m<module>\u001b[1;34m()\u001b[0m\n\u001b[0;32m      1\u001b[0m \u001b[0mtp\u001b[0m \u001b[1;33m=\u001b[0m \u001b[1;33m(\u001b[0m\u001b[1;36m1\u001b[0m\u001b[1;33m,\u001b[0m\u001b[1;36m2\u001b[0m\u001b[1;33m)\u001b[0m\u001b[1;33m\u001b[0m\u001b[0m\n\u001b[1;32m----> 2\u001b[1;33m \u001b[0mtp\u001b[0m \u001b[1;33m=\u001b[0m \u001b[0mtp\u001b[0m \u001b[1;33m+\u001b[0m \u001b[1;33m(\u001b[0m\u001b[1;36m5\u001b[0m\u001b[1;33m)\u001b[0m \u001b[1;31m#can't do this either\u001b[0m\u001b[1;33m\u001b[0m\u001b[0m\n\u001b[0m",
      "\u001b[1;31mTypeError\u001b[0m: can only concatenate tuple (not \"int\") to tuple"
     ]
    }
   ],
   "source": [
    "tp = (1,2)\n",
    "tp = tp + (5) #can't concatenate an int to a tuple"
   ]
  },
  {
   "cell_type": "markdown",
   "metadata": {},
   "source": [
    "#### BUT\n",
    "Add a comma and it does work, because you indicate that it is a one element tuple"
   ]
  },
  {
   "cell_type": "code",
   "execution_count": 41,
   "metadata": {},
   "outputs": [
    {
     "name": "stdout",
     "output_type": "stream",
     "text": [
      "(1, 2, 'tada!')\n"
     ]
    }
   ],
   "source": [
    "tp = (1,2)\n",
    "tp = tp + ('tada!',) #can concatenate a tuple to another tuple\n",
    "print(tp)"
   ]
  },
  {
   "cell_type": "markdown",
   "metadata": {},
   "source": [
    "Works like a list when getting parts of tuples - use square brackets []"
   ]
  },
  {
   "cell_type": "code",
   "execution_count": 11,
   "metadata": {},
   "outputs": [
    {
     "name": "stdout",
     "output_type": "stream",
     "text": [
      "yes\n",
      "(3, 'yes', 0.5, False, 3, 4)\n"
     ]
    }
   ],
   "source": [
    "print(tp[1])\n",
    "print(tp + (3,4))"
   ]
  },
  {
   "cell_type": "code",
   "execution_count": 14,
   "metadata": {},
   "outputs": [
    {
     "name": "stdout",
     "output_type": "stream",
     "text": [
      "('yes', 0.5)\n"
     ]
    }
   ],
   "source": [
    "print(tp[1:3])"
   ]
  },
  {
   "cell_type": "markdown",
   "metadata": {},
   "source": [
    "A tuple with one element needs a comma at the end"
   ]
  },
  {
   "cell_type": "code",
   "execution_count": 44,
   "metadata": {},
   "outputs": [
    {
     "name": "stdout",
     "output_type": "stream",
     "text": [
      "('egg',)\n"
     ]
    }
   ],
   "source": [
    "eg = ('egg',)\n",
    "print(eg)"
   ]
  },
  {
   "cell_type": "markdown",
   "metadata": {},
   "source": [
    "#### Can be used to return more than one thing!"
   ]
  },
  {
   "cell_type": "code",
   "execution_count": 27,
   "metadata": {},
   "outputs": [
    {
     "data": {
      "text/plain": [
       "(2, 3, 6)"
      ]
     },
     "execution_count": 27,
     "metadata": {},
     "output_type": "execute_result"
    }
   ],
   "source": [
    "def mult_and_org (i, mult):\n",
    "    x = i * mult\n",
    "    return (i, mult, x)\n",
    "\n",
    "mult_and_org(2,3)\n",
    "#return what number is multiplied, how many times it is multiplied, and the result!"
   ]
  },
  {
   "cell_type": "markdown",
   "metadata": {},
   "source": [
    "Below, a function that takes a tuple with tuples inside it as input and outputs the smalles num, largest, and number of unique words"
   ]
  },
  {
   "cell_type": "code",
   "execution_count": 29,
   "metadata": {},
   "outputs": [
    {
     "name": "stdout",
     "output_type": "stream",
     "text": [
      "(1, 8, 3)\n",
      "(2, 9, 4)\n"
     ]
    }
   ],
   "source": [
    "def get_data(aTuple):\n",
    "    nums = ()\n",
    "    words = ()\n",
    "    \n",
    "    for i in aTuple:\n",
    "        nums = nums + (i[0],) #put comma to indicate that it is a tuple with one element\n",
    "        \n",
    "        if i[1] not in words: #checks for unique words and adds if unique\n",
    "            words = words + (i[1],)\n",
    "    \n",
    "    min_nums = min(nums) #smallest num\n",
    "    max_nums = max(nums) #largest num\n",
    "    unique_words = len(words) #counts number of unique words\n",
    "    \n",
    "    return (min_nums,max_nums,unique_words)\n",
    "\n",
    "tp = ((1,'pie'),(4,'apple'),(2,'car'),(8,'apple'))\n",
    "\n",
    "print(get_data(tp))\n",
    "\n",
    "print(get_data(((5,'so'),(2,'ok'),(9,'yes'),(4,'beep'))))"
   ]
  },
  {
   "cell_type": "code",
   "execution_count": null,
   "metadata": {
    "collapsed": true
   },
   "outputs": [],
   "source": []
  },
  {
   "cell_type": "markdown",
   "metadata": {},
   "source": [
    "Write a procedure called oddTuples, which takes a tuple as input, and returns a new tuple as output, where every other element of the input tuple is copied, starting with the first one. So if test is the tuple ('I', 'am', 'a', 'test', 'tuple'), then evaluating oddTuples on this input would return the tuple ('I', 'a', 'tuple').\n",
    "\n"
   ]
  },
  {
   "cell_type": "code",
   "execution_count": 67,
   "metadata": {},
   "outputs": [
    {
     "name": "stdout",
     "output_type": "stream",
     "text": [
      "(9, 1, 0)\n",
      "('I', 'a', 'tuple')\n"
     ]
    }
   ],
   "source": [
    "def oddTuples(aTup):\n",
    "    bTup = ()\n",
    "    counter = 0\n",
    "    for i in aTup:\n",
    "        counter += 1\n",
    "        if counter % 2 == 1:\n",
    "            bTup = bTup + (i,)\n",
    "    \n",
    "    return(bTup)\n",
    "\n",
    "print(oddTuples((9, 9, 1, 1, 0, 11)))\n",
    "print(oddTuples(('I', 'am', 'a', 'test', 'tuple')))"
   ]
  },
  {
   "cell_type": "markdown",
   "metadata": {
    "collapsed": true
   },
   "source": [
    "# Lists"
   ]
  },
  {
   "cell_type": "code",
   "execution_count": 12,
   "metadata": {},
   "outputs": [
    {
     "name": "stdout",
     "output_type": "stream",
     "text": [
      "[4, 2, 9, 6, 5, 8, 5, 3, 5, 7]\n",
      "[4, 2, 9, 6, 8, 3, 7]\n"
     ]
    }
   ],
   "source": [
    "ls = [5,4,2,9,6,5,8,5,3,5,7]\n",
    "\n",
    "ls1 = ls\n",
    "\n",
    "ls1.remove(5) #removes the first 5 that is found on the list\n",
    "print(ls1)\n",
    "\n",
    "ls2 = ls\n",
    "\n",
    "while 5 in ls2: #now I can remove all the 5s\n",
    "    ls2.remove(5)\n",
    "print(ls2)"
   ]
  },
  {
   "cell_type": "code",
   "execution_count": 16,
   "metadata": {},
   "outputs": [
    {
     "name": "stdout",
     "output_type": "stream",
     "text": [
      "[5, 4, 2, 9, 6, 5, 8, 5, 3, 5]\n"
     ]
    }
   ],
   "source": [
    "ls = [5,4,2,9,6,5,8,5,3,5,7]\n",
    "\n",
    "ls.pop() #pops the last element in the list\n",
    "print(ls)"
   ]
  },
  {
   "cell_type": "code",
   "execution_count": 18,
   "metadata": {},
   "outputs": [
    {
     "name": "stdout",
     "output_type": "stream",
     "text": [
      "[5, 4, 2, 6, 5, 8, 5, 3, 5, 7]\n"
     ]
    }
   ],
   "source": [
    "ls = [5,4,2,9,6,5,8,5,3,5,7]\n",
    "\n",
    "del (ls[3]) #deletes the 3rd element in the list\n",
    "print(ls)"
   ]
  },
  {
   "cell_type": "code",
   "execution_count": 20,
   "metadata": {},
   "outputs": [
    {
     "name": "stdout",
     "output_type": "stream",
     "text": [
      "['h', 'e', 'l', 'l', 'o']\n"
     ]
    }
   ],
   "source": [
    "s = 'hello'\n",
    "s = list(s) #convert string to list\n",
    "print(s)"
   ]
  },
  {
   "cell_type": "code",
   "execution_count": 23,
   "metadata": {},
   "outputs": [
    {
     "name": "stdout",
     "output_type": "stream",
     "text": [
      "['I ', '3 you']\n"
     ]
    }
   ],
   "source": [
    "s = 'I <3 you'\n",
    "s= s.split('<') #splits string into a list in the element you choose\n",
    "print(s)"
   ]
  },
  {
   "cell_type": "code",
   "execution_count": 25,
   "metadata": {},
   "outputs": [
    {
     "name": "stdout",
     "output_type": "stream",
     "text": [
      "friend\n"
     ]
    }
   ],
   "source": [
    "y = ['f','r','i','e','n','d']\n",
    "\n",
    "y = ''.join(y) # I join the elements from a list using the char I choose into one string\n",
    "print(y)"
   ]
  },
  {
   "cell_type": "code",
   "execution_count": 61,
   "metadata": {},
   "outputs": [
    {
     "name": "stdout",
     "output_type": "stream",
     "text": [
      "['a', 'b', 'c', 'g', 'h', 'r']\n",
      "['r', 'h', 'g', 'c', 'b', 'a']\n",
      "['r', 'h', 'g', 'c', 'b', 2, 'a']\n"
     ]
    }
   ],
   "source": [
    "a = ['c','a','g','h','r','b']\n",
    "\n",
    "a.sort() #sorted\n",
    "print(a)\n",
    "a.reverse() #reversed\n",
    "print(a)\n",
    "\n",
    "a.insert(5,2) #inserts a 2 in the 5th spot\n",
    "print(a)"
   ]
  },
  {
   "cell_type": "code",
   "execution_count": 62,
   "metadata": {},
   "outputs": [
    {
     "name": "stdout",
     "output_type": "stream",
     "text": [
      "[1, 2, 3, 4, 5, 6]\n"
     ]
    }
   ],
   "source": [
    "a = [1,2,3]\n",
    "b = [4,5,6]\n",
    "\n",
    "print(a+b)"
   ]
  },
  {
   "cell_type": "code",
   "execution_count": 69,
   "metadata": {},
   "outputs": [
    {
     "name": "stdout",
     "output_type": "stream",
     "text": [
      "[1, 2, 3, 4, 5, 'hi', 'hello']\n",
      "[1, 2, 3, 4, 5, ['hi', 'hello']]\n"
     ]
    }
   ],
   "source": [
    "a = [1,2,3,4,5]\n",
    "a.extend(['hi','hello']) #extend is like appending but it can append multiple elements\n",
    "\n",
    "print(a)\n",
    "\n",
    "b = [1,2,3,4,5]\n",
    "b.append(['hi','hello']) #will append one sub-list in the list\n",
    "\n",
    "print(b)"
   ]
  },
  {
   "cell_type": "code",
   "execution_count": 71,
   "metadata": {},
   "outputs": [
    {
     "name": "stdout",
     "output_type": "stream",
     "text": [
      "[4, 3, 6, 1, 4, 7, 4, 1, 0, 100]\n"
     ]
    }
   ],
   "source": [
    "a = [100,0,1,4,7,4,1,6,3,4]\n",
    "a.reverse()\n",
    "print(a)"
   ]
  },
  {
   "cell_type": "markdown",
   "metadata": {},
   "source": [
    "## Mutation, Aliasing, Cloning"
   ]
  },
  {
   "cell_type": "code",
   "execution_count": 74,
   "metadata": {},
   "outputs": [
    {
     "name": "stdout",
     "output_type": "stream",
     "text": [
      "[1, 2, 3, 4]\n",
      "[1, 2, 3, 4]\n"
     ]
    }
   ],
   "source": [
    "a = [1,2,3]\n",
    "b = a\n",
    "\n",
    "a.append(4) #both lists are mutated\n",
    "print(a)\n",
    "print(b)"
   ]
  },
  {
   "cell_type": "code",
   "execution_count": 76,
   "metadata": {},
   "outputs": [
    {
     "name": "stdout",
     "output_type": "stream",
     "text": [
      "[1, 2, 3, 4]\n",
      "[1, 2, 3]\n"
     ]
    }
   ],
   "source": [
    "a = [1,2,3]\n",
    "b = a[:] #cloning a list, they have the same elements but point at different lists\n",
    "\n",
    "a.append(4)\n",
    "print(a)\n",
    "print(b)"
   ]
  },
  {
   "cell_type": "code",
   "execution_count": null,
   "metadata": {
    "collapsed": true
   },
   "outputs": [],
   "source": []
  }
 ],
 "metadata": {
  "kernelspec": {
   "display_name": "Python 3",
   "language": "python",
   "name": "python3"
  },
  "language_info": {
   "codemirror_mode": {
    "name": "ipython",
    "version": 3
   },
   "file_extension": ".py",
   "mimetype": "text/x-python",
   "name": "python",
   "nbconvert_exporter": "python",
   "pygments_lexer": "ipython3",
   "version": "3.6.1"
  }
 },
 "nbformat": 4,
 "nbformat_minor": 2
}
